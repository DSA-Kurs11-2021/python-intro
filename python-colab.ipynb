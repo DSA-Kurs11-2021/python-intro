{
  "nbformat": 4,
  "nbformat_minor": 0,
  "metadata": {
    "colab": {
      "name": "colab-tutorial.ipynb",
      "provenance": [],
      "collapsed_sections": [],
      "include_colab_link": true
    },
    "kernelspec": {
      "display_name": "Python 3",
      "language": "python",
      "name": "python3"
    },
    "language_info": {
      "codemirror_mode": {
        "name": "ipython",
        "version": 3
      },
      "file_extension": ".py",
      "mimetype": "text/x-python",
      "name": "python",
      "nbconvert_exporter": "python",
      "pygments_lexer": "ipython3",
      "version": "3.7.6"
    }
  },
  "cells": [
    {
      "cell_type": "markdown",
      "metadata": {
        "id": "view-in-github",
        "colab_type": "text"
      },
      "source": [
        "<a href=\"https://colab.research.google.com/github/DSA-Kurs11-2021/python-intro/blob/main/python-colab.ipynb\" target=\"_parent\"><img src=\"https://colab.research.google.com/assets/colab-badge.svg\" alt=\"Open In Colab\"/></a>"
      ]
    },
    {
      "cell_type": "markdown",
      "metadata": {
        "id": "dzNng6vCL9eP"
      },
      "source": [
        "#Einführung in Python"
      ]
    },
    {
      "cell_type": "markdown",
      "metadata": {
        "id": "0vJLt3JRL9eR"
      },
      "source": [
        "Diese Einführung is angepasst vom CS231n Kurs in Stanford.\n",
        "\n",
        "This tutorial was originally written by [Justin Johnson](https://web.eecs.umich.edu/~justincj/) for cs231n. It was adapted as a Jupyter notebook for cs228 by [Volodymyr Kuleshov](http://web.stanford.edu/~kuleshov/) and [Isaac Caswell](https://symsys.stanford.edu/viewing/symsysaffiliate/21335).\n",
        "\n",
        "This version has been adapted for Colab by Kevin Zakka for the Spring 2020 edition of [cs231n](https://cs231n.github.io/). It runs Python3 by default."
      ]
    },
    {
      "cell_type": "markdown",
      "metadata": {
        "id": "qVrTo-LhL9eS"
      },
      "source": [
        "##Einführung"
      ]
    },
    {
      "cell_type": "markdown",
      "metadata": {
        "id": "9t1gKp9PL9eV"
      },
      "source": [
        "Python ist eine universell einsetzbare Programmiersprache, die mit der Verwendung von einigen Bibliotheken (numpy, scipy, matploblib) zu einer wertvollen Umgebung für wissenschaftliche Programmierung wird.\n",
        "\n",
        "Diese Einführung dient dazu euch grundlegende Pythonkenntnisse beizubringen, damit wir während des Kurses uns auf die Aspekte der KI fokussieren können. Für diejenigen unter euch, die entweder keine Programmiererfahrung haben oder mehr Interesse an anderen Aspekten der KI haben werden wir aber auch andere Möglichkeiten anbieten eure eigenen KI-Systeme zu entwickeln.\n",
        "\n",
        "Insofern ist diese Einführung und programmieren während des Kurses völlig optional."
      ]
    },
    {
      "cell_type": "markdown",
      "metadata": {
        "id": "U1PvreR9L9eW"
      },
      "source": [
        "Diese Einführung behandelt:\n",
        "\n",
        "* Basic Python: Grundlegende Datentypen (Containers, Lists, Dictionaries, Sets, Tuples), Funktionen, Klassen\n",
        "* Numpy: Arrays, Array indexing, Datatypes, Array math, Broadcasting\n",
        "* Matplotlib: Plotting, Subplots, Bilder\n",
        "* IPython: Erstellen von notebooks, Generelle Anwendungen"
      ]
    },
    {
      "cell_type": "markdown",
      "metadata": {
        "id": "nxvEkGXPM3Xh"
      },
      "source": [
        "## Ein Kommentar zu Pythonversionen & Colab\n",
        "\n",
        "Seit Januar 2020 wird Python2 nicht mehr unterstützt. Insofern werden alle unsere Materialien Python3 verwenden.\n",
        "\n",
        "Für diejenigen unter euch die keinen Googleaccount haben oder erstellen wollen empfehlen wir Jupyter Notebooks mit Anaconda zu verwenden:\n",
        "- https://www.anaconda.com/products/individual\n",
        "- Mehr infos auch unter: https://cs231n.github.io/python-numpy-tutorial/#jupyter-and-colab-notebooks\n",
        "\n",
        "Ihr könnt einzelne Zellen mit dem \"Run\"-Button (Button mit Pfeil am linken oberen Rand der Zelle) oder per \"shift\"+\"Enter\" ausführen.\n",
        "Ausserdem sind Codeblöcke mit `# ...` Kommentare die nicht ausgeführt werden."
      ]
    },
    {
      "cell_type": "markdown",
      "metadata": {
        "id": "JAFKYgrpL9eY"
      },
      "source": [
        "##Pythongrundlagen"
      ]
    },
    {
      "cell_type": "markdown",
      "metadata": {
        "id": "RbFS6tdgL9ea"
      },
      "source": [
        "Python ist eine höhere Programmiersprache mit dynamischen Typen. Pythoncode wird oftmals fast als `pseudocode` bezeichnet, da man sehr komplizierte Ideen mit sehr wenigen Zeilen Code ausdrücken kann und dabei sehr lesbar ist.\n",
        "\n",
        "Zum Beispiel ist dies eine Implementierung des klassischen Quicksort-Algorithmus:"
      ]
    },
    {
      "cell_type": "code",
      "metadata": {
        "colab": {
          "base_uri": "https://localhost:8080/"
        },
        "id": "cYb0pjh1L9eb",
        "outputId": "b49fe5a3-23e9-4609-ef8a-6eb17c423333"
      },
      "source": [
        "def quicksort(arr):\n",
        "    if len(arr) <= 1:\n",
        "        return arr\n",
        "    pivot = arr[len(arr) // 2]\n",
        "    left = [x for x in arr if x < pivot]\n",
        "    middle = [x for x in arr if x == pivot]\n",
        "    right = [x for x in arr if x > pivot]\n",
        "    return quicksort(left) + middle + quicksort(right)\n",
        "\n",
        "print(quicksort([3,6,8,10,1,2,1]))"
      ],
      "execution_count": 1,
      "outputs": [
        {
          "output_type": "stream",
          "text": [
            "[1, 1, 2, 3, 6, 8, 10]\n"
          ],
          "name": "stdout"
        }
      ]
    },
    {
      "cell_type": "markdown",
      "metadata": {
        "id": "NwS_hu4xL9eo"
      },
      "source": [
        "###Grundlegende Datentypen"
      ]
    },
    {
      "cell_type": "markdown",
      "metadata": {
        "id": "DL5sMSZ9L9eq"
      },
      "source": [
        "####Numbers"
      ]
    },
    {
      "cell_type": "markdown",
      "metadata": {
        "id": "MGS0XEWoL9er"
      },
      "source": [
        "Zahlen werden durch integers (ganze Zahlen) oder floats (reelle Zahlen) ausgedrückt. Integers und floats funktionieren wie in anderen Programmiersprachen:"
      ]
    },
    {
      "cell_type": "code",
      "metadata": {
        "colab": {
          "base_uri": "https://localhost:8080/"
        },
        "id": "KheDr_zDL9es",
        "outputId": "60b52b4a-3bb6-4c9b-c5e5-0f04fe6d2ca1"
      },
      "source": [
        "x = 3\n",
        "print(x, type(x))"
      ],
      "execution_count": 2,
      "outputs": [
        {
          "output_type": "stream",
          "text": [
            "3 <class 'int'>\n"
          ],
          "name": "stdout"
        }
      ]
    },
    {
      "cell_type": "code",
      "metadata": {
        "colab": {
          "base_uri": "https://localhost:8080/"
        },
        "id": "sk_8DFcuL9ey",
        "outputId": "a6d26039-9064-4f7e-c9cd-a43e05519723"
      },
      "source": [
        "print(x + 1)   # Addition\n",
        "print(x - 1)   # Subtraktion\n",
        "print(x * 2)   # Multiplikation\n",
        "print(x ** 2)  # Exponentiation"
      ],
      "execution_count": 3,
      "outputs": [
        {
          "output_type": "stream",
          "text": [
            "4\n",
            "2\n",
            "6\n",
            "9\n"
          ],
          "name": "stdout"
        }
      ]
    },
    {
      "cell_type": "code",
      "metadata": {
        "colab": {
          "base_uri": "https://localhost:8080/"
        },
        "id": "U4Jl8K0tL9e4",
        "outputId": "9eb4c82c-0e5d-43ce-abd5-334ced6dcec3"
      },
      "source": [
        "x += 1\n",
        "print(x)\n",
        "x *= 2\n",
        "print(x)"
      ],
      "execution_count": 4,
      "outputs": [
        {
          "output_type": "stream",
          "text": [
            "4\n",
            "8\n"
          ],
          "name": "stdout"
        }
      ]
    },
    {
      "cell_type": "code",
      "metadata": {
        "colab": {
          "base_uri": "https://localhost:8080/"
        },
        "id": "w-nZ0Sg_L9e9",
        "outputId": "b601e692-a042-403f-d3ad-f7d8841f2a86"
      },
      "source": [
        "y = 2.5\n",
        "print(type(y))\n",
        "print(y, y + 1, y * 2, y ** 2)"
      ],
      "execution_count": 5,
      "outputs": [
        {
          "output_type": "stream",
          "text": [
            "<class 'float'>\n",
            "2.5 3.5 5.0 6.25\n"
          ],
          "name": "stdout"
        }
      ]
    },
    {
      "cell_type": "markdown",
      "metadata": {
        "id": "r2A9ApyaL9fB"
      },
      "source": [
        "Im Vergleich zu anderen Programmiersprachen hat Python keine Operatoren zum inkrementieren (x++) oder dekrementieren (x--).\n",
        "\n",
        "Python hat auch eingebaute Typen für größere ganze Zahlen (long integers) und komplexe Zahlen; Ihr könnt die Details in der [Dokumentation](https://docs.python.org/3.7/library/stdtypes.html#numeric-types-int-float-long-complex) finden."
      ]
    },
    {
      "cell_type": "markdown",
      "metadata": {
        "id": "EqRS7qhBL9fC"
      },
      "source": [
        "####Booleans"
      ]
    },
    {
      "cell_type": "markdown",
      "metadata": {
        "id": "Nv_LIVOJL9fD"
      },
      "source": [
        "Python implementiert alle üblichen Operatoren für Boolean Logik, aber benutzt dafür Englische Wörter anstatt Symbole (`&&`, `||`, etc.):"
      ]
    },
    {
      "cell_type": "code",
      "metadata": {
        "colab": {
          "base_uri": "https://localhost:8080/"
        },
        "id": "RvoImwgGL9fE",
        "outputId": "a77abf91-4cd1-4a79-b051-e63d70513e22"
      },
      "source": [
        "t, f = True, False\n",
        "print(type(t))"
      ],
      "execution_count": 6,
      "outputs": [
        {
          "output_type": "stream",
          "text": [
            "<class 'bool'>\n"
          ],
          "name": "stdout"
        }
      ]
    },
    {
      "cell_type": "markdown",
      "metadata": {
        "id": "YQgmQfOgL9fI"
      },
      "source": [
        "Und die Operatoren:"
      ]
    },
    {
      "cell_type": "code",
      "metadata": {
        "colab": {
          "base_uri": "https://localhost:8080/"
        },
        "id": "6zYm7WzCL9fK",
        "outputId": "a053ce69-5fe0-4336-9cea-e864d14eed32"
      },
      "source": [
        "print(t and f) # Logical AND;\n",
        "print(t or f)  # Logical OR;\n",
        "print(not t)   # Logical NOT;\n",
        "print(t != f)  # Logical XOR;"
      ],
      "execution_count": 7,
      "outputs": [
        {
          "output_type": "stream",
          "text": [
            "False\n",
            "True\n",
            "False\n",
            "True\n"
          ],
          "name": "stdout"
        }
      ]
    },
    {
      "cell_type": "markdown",
      "metadata": {
        "id": "UQnQWFEyL9fP"
      },
      "source": [
        "####Strings (Zeichenketten)"
      ]
    },
    {
      "cell_type": "code",
      "metadata": {
        "colab": {
          "base_uri": "https://localhost:8080/"
        },
        "id": "AijEDtPFL9fP",
        "outputId": "b50b84c5-bcc2-4b6e-c9b0-e009f67648dc"
      },
      "source": [
        "hello = 'hello'   # String koennen einzelne oder\n",
        "world = \"world\"   # doppelte Anfuehrungszeichen benutzen.\n",
        "print(hello, len(hello))"
      ],
      "execution_count": 8,
      "outputs": [
        {
          "output_type": "stream",
          "text": [
            "hello 5\n"
          ],
          "name": "stdout"
        }
      ]
    },
    {
      "cell_type": "code",
      "metadata": {
        "colab": {
          "base_uri": "https://localhost:8080/"
        },
        "id": "saDeaA7hL9fT",
        "outputId": "2c33a767-a94c-436b-c5a3-d6ae5cc63222"
      },
      "source": [
        "hw = hello + ' ' + world  # Strings zusammenfuegen\n",
        "print(hw)"
      ],
      "execution_count": 9,
      "outputs": [
        {
          "output_type": "stream",
          "text": [
            "hello world\n"
          ],
          "name": "stdout"
        }
      ]
    },
    {
      "cell_type": "code",
      "metadata": {
        "colab": {
          "base_uri": "https://localhost:8080/"
        },
        "id": "Nji1_UjYL9fY",
        "outputId": "98f6bcfd-56b0-40ad-a1e6-2ddfcac8f6bb"
      },
      "source": [
        "hw12 = '{} {} {}'.format(hello, world, 12)  # Formatierung von Strings\n",
        "print(hw12)"
      ],
      "execution_count": 10,
      "outputs": [
        {
          "output_type": "stream",
          "text": [
            "hello world 12\n"
          ],
          "name": "stdout"
        }
      ]
    },
    {
      "cell_type": "markdown",
      "metadata": {
        "id": "bUpl35bIL9fc"
      },
      "source": [
        "String-Objekte haben einige Funktionen, z.B.:"
      ]
    },
    {
      "cell_type": "code",
      "metadata": {
        "colab": {
          "base_uri": "https://localhost:8080/"
        },
        "id": "VOxGatlsL9fd",
        "outputId": "d55340ed-97f6-4de4-fa4c-76a5940b3a15"
      },
      "source": [
        "s = \"hello\"\n",
        "print(s.capitalize())  # Kapitalisieren vom String\n",
        "print(s.upper())       # Konvertieren des Strings in \"uppercase\"; schreibt \"HELLO\"\n",
        "print(s.rjust(7))      # Rechts-ausrichten des Strings, fuegt Leerzeichen ein.\n",
        "print(s.center(7))     # Mittel-ausrichten des Strings, fuegt Leerzeichen ein.\n",
        "print(s.replace('l', '(ell)'))  # Ersetzt alle Instanzen eines Teilstrings mit einem anderem\n",
        "print('  world '.strip())  # Entfernt alle Leerzeichen (und Whitespaces, e.g. Tab, etc) am Anfang und Ende"
      ],
      "execution_count": 11,
      "outputs": [
        {
          "output_type": "stream",
          "text": [
            "Hello\n",
            "HELLO\n",
            "  hello\n",
            " hello \n",
            "he(ell)(ell)o\n",
            "world\n"
          ],
          "name": "stdout"
        }
      ]
    },
    {
      "cell_type": "markdown",
      "metadata": {
        "id": "06cayXLtL9fi"
      },
      "source": [
        "Ihr könnt mehr Methoden in der [Dokumentation](https://docs.python.org/3.7/library/stdtypes.html#string-methods) finden."
      ]
    },
    {
      "cell_type": "markdown",
      "metadata": {
        "id": "p-6hClFjL9fk"
      },
      "source": [
        "###Containers"
      ]
    },
    {
      "cell_type": "markdown",
      "metadata": {
        "id": "FD9H18eQL9fk"
      },
      "source": [
        "Python enthält einige Container-Typen: lists, dictionaries, sets, and tuples."
      ]
    },
    {
      "cell_type": "markdown",
      "metadata": {
        "id": "UsIWOe0LL9fn"
      },
      "source": [
        "####Lists"
      ]
    },
    {
      "cell_type": "markdown",
      "metadata": {
        "id": "wzxX7rgWL9fn"
      },
      "source": [
        "Eine Liste (list) ist die Pythonversion eines \"Arrays\". Eine Liste enthält eine beliebige Anzahl an Elementen verschiedener Typen und kann die Größe verändern:"
      ]
    },
    {
      "cell_type": "code",
      "metadata": {
        "colab": {
          "base_uri": "https://localhost:8080/"
        },
        "id": "hk3A8pPcL9fp",
        "outputId": "253a909e-fb8b-4057-84a3-5d8cbdf14a3a"
      },
      "source": [
        "xs = [3, 1, 2]   # Erstellt eine Liste mit Elemten 3, 1, 2\n",
        "print(xs, xs[2])\n",
        "print(xs[-1])     # Negative Indizes zaehlen vom Ende der Liste; schreibt \"2\""
      ],
      "execution_count": 12,
      "outputs": [
        {
          "output_type": "stream",
          "text": [
            "[3, 1, 2] 2\n",
            "2\n"
          ],
          "name": "stdout"
        }
      ]
    },
    {
      "cell_type": "code",
      "metadata": {
        "colab": {
          "base_uri": "https://localhost:8080/"
        },
        "id": "YCjCy_0_L9ft",
        "outputId": "9a54b1a4-bb77-42bf-9fad-79fe01fa0b6a"
      },
      "source": [
        "xs[2] = 'foo'    # Listen koennen verschiedene Typen enthalten.\n",
        "print(xs)"
      ],
      "execution_count": 13,
      "outputs": [
        {
          "output_type": "stream",
          "text": [
            "[3, 1, 'foo']\n"
          ],
          "name": "stdout"
        }
      ]
    },
    {
      "cell_type": "code",
      "metadata": {
        "colab": {
          "base_uri": "https://localhost:8080/"
        },
        "id": "vJ0x5cF-L9fx",
        "outputId": "ee41fa91-dd43-4e72-e102-7a9fa00c57c2"
      },
      "source": [
        "xs.append('bar') # Fuegt ein neues Element am Ende der Liste hinzu.\n",
        "print(xs)  "
      ],
      "execution_count": 14,
      "outputs": [
        {
          "output_type": "stream",
          "text": [
            "[3, 1, 'foo', 'bar']\n"
          ],
          "name": "stdout"
        }
      ]
    },
    {
      "cell_type": "code",
      "metadata": {
        "colab": {
          "base_uri": "https://localhost:8080/"
        },
        "id": "cxVCNRTNL9f1",
        "outputId": "61519916-128e-4419-d2a1-62b39c8736cf"
      },
      "source": [
        "x = xs.pop()     # Entfernt das letzte Element der Liste und gibt es zurueck.\n",
        "print(x, xs)"
      ],
      "execution_count": 15,
      "outputs": [
        {
          "output_type": "stream",
          "text": [
            "bar [3, 1, 'foo']\n"
          ],
          "name": "stdout"
        }
      ]
    },
    {
      "cell_type": "markdown",
      "metadata": {
        "id": "ilyoyO34L9f4"
      },
      "source": [
        "Mehr details findet ihr in der [Dokumentation](https://docs.python.org/3.7/tutorial/datastructures.html#more-on-lists)."
      ]
    },
    {
      "cell_type": "markdown",
      "metadata": {
        "id": "ovahhxd_L9f5"
      },
      "source": [
        "####Slicing - Zugang zu Listenelementen"
      ]
    },
    {
      "cell_type": "markdown",
      "metadata": {
        "id": "YeSYKhv9L9f6"
      },
      "source": [
        "Abgesehen davon immer nur auf ein einziges Listenelement zuzugreifen, kann Python auch auf Teillisten zugreifen. Das wird als \"slicing\" bezeichnet:"
      ]
    },
    {
      "cell_type": "code",
      "metadata": {
        "colab": {
          "base_uri": "https://localhost:8080/"
        },
        "id": "ninq666bL9f6",
        "outputId": "4139dec1-af44-4293-df1d-cc0ac72addf2"
      },
      "source": [
        "nums = list(range(5))    # \"range\" ist eine eingebaute Funktion die Listen mit ganzen Zahlen (integers) erstellt\n",
        "print(nums)         # Schreibt \"[0, 1, 2, 3, 4]\"\n",
        "print(nums[2:4])    # Hole ein Stueck (slice) von Index 2 bis 4 (exklusive); schreibt \"[2, 3]\"\n",
        "print(nums[2:])     # Hole ein slice von Index 2 bis zum Ende; schreibt \"[2, 3, 4]\"\n",
        "print(nums[:2])     # Hole ein slice vom Anfange bis Index 2 (exklusive); schreibt \"[0, 1]\"\n",
        "print(nums[:])      # Hole ein slice der ganzen Liste; schreibt [\"0, 1, 2, 3, 4]\"\n",
        "print(nums[:-1])    # Slice Indizes koennen negativ sein; schreibt [\"0, 1, 2, 3]\"\n",
        "nums[2:4] = [8, 9] # Ueberschreibe ein slice mit einer neuen Liste (muss gleich gross sein)\n",
        "print(nums)         # schreibt \"[0, 1, 8, 9, 4]\""
      ],
      "execution_count": 16,
      "outputs": [
        {
          "output_type": "stream",
          "text": [
            "[0, 1, 2, 3, 4]\n",
            "[2, 3]\n",
            "[2, 3, 4]\n",
            "[0, 1]\n",
            "[0, 1, 2, 3, 4]\n",
            "[0, 1, 2, 3]\n",
            "[0, 1, 8, 9, 4]\n"
          ],
          "name": "stdout"
        }
      ]
    },
    {
      "cell_type": "markdown",
      "metadata": {
        "id": "UONpMhF4L9f_"
      },
      "source": [
        "####Loops - Schleifen"
      ]
    },
    {
      "cell_type": "markdown",
      "metadata": {
        "id": "_DYz1j6QL9f_"
      },
      "source": [
        "So kann man durch alle Elemente einer Liste iterieren:"
      ]
    },
    {
      "cell_type": "code",
      "metadata": {
        "colab": {
          "base_uri": "https://localhost:8080/"
        },
        "id": "4cCOysfWL9gA",
        "outputId": "992a33cd-cb8b-4372-c5be-ea714c0c74e5"
      },
      "source": [
        "animals = ['cat', 'dog', 'monkey']\n",
        "for animal in animals:\n",
        "    print(animal)"
      ],
      "execution_count": 17,
      "outputs": [
        {
          "output_type": "stream",
          "text": [
            "cat\n",
            "dog\n",
            "monkey\n"
          ],
          "name": "stdout"
        }
      ]
    },
    {
      "cell_type": "markdown",
      "metadata": {
        "id": "KxIaQs7pL9gE"
      },
      "source": [
        "Falls ihr auch den Index zum Element haben wollt könnt ihr \"enumerate\" benutzen:"
      ]
    },
    {
      "cell_type": "code",
      "metadata": {
        "colab": {
          "base_uri": "https://localhost:8080/"
        },
        "id": "JjGnDluWL9gF",
        "outputId": "8218c061-2ad5-45ad-c2e0-0fd27f44ea0a"
      },
      "source": [
        "animals = ['cat', 'dog', 'monkey']\n",
        "for idx, animal in enumerate(animals):\n",
        "    print('#{}: {}'.format(idx + 1, animal))"
      ],
      "execution_count": 18,
      "outputs": [
        {
          "output_type": "stream",
          "text": [
            "#1: cat\n",
            "#2: dog\n",
            "#3: monkey\n"
          ],
          "name": "stdout"
        }
      ]
    },
    {
      "cell_type": "markdown",
      "metadata": {
        "id": "arrLCcMyL9gK"
      },
      "source": [
        "####List comprehensions - Erstellen von Listen mit kürzeren Codebausteinen:"
      ]
    },
    {
      "cell_type": "markdown",
      "metadata": {
        "id": "5Qn2jU_pL9gL"
      },
      "source": [
        "Wenn man programmiert möchte man oft einen Art von Daten in eine andere Form umwandeln. Zum Beispiel berechnet dieser Code das Quadrat der Zahlen in einer Liste:"
      ]
    },
    {
      "cell_type": "code",
      "metadata": {
        "colab": {
          "base_uri": "https://localhost:8080/"
        },
        "id": "IVNEwoMXL9gL",
        "outputId": "bba82396-efda-46a2-c85f-14a2fa9a14c9"
      },
      "source": [
        "nums = [0, 1, 2, 3, 4]\n",
        "squares = []\n",
        "for x in nums:\n",
        "    squares.append(x ** 2)\n",
        "print(squares)"
      ],
      "execution_count": 19,
      "outputs": [
        {
          "output_type": "stream",
          "text": [
            "[0, 1, 4, 9, 16]\n"
          ],
          "name": "stdout"
        }
      ]
    },
    {
      "cell_type": "markdown",
      "metadata": {
        "id": "7DmKVUFaL9gQ"
      },
      "source": [
        "Das kann mit sognennaten \"list comprehensions\" kürzer ausgedrückt werden. List comprehensions bauen neue Listen indem sie über jedes Element iterieren:"
      ]
    },
    {
      "cell_type": "code",
      "metadata": {
        "colab": {
          "base_uri": "https://localhost:8080/"
        },
        "id": "kZxsUfV6L9gR",
        "outputId": "1fc90cc7-481c-4468-eec6-d0f207404016"
      },
      "source": [
        "nums = [0, 1, 2, 3, 4]\n",
        "squares = [x ** 2 for x in nums]\n",
        "print(squares)"
      ],
      "execution_count": 20,
      "outputs": [
        {
          "output_type": "stream",
          "text": [
            "[0, 1, 4, 9, 16]\n"
          ],
          "name": "stdout"
        }
      ]
    },
    {
      "cell_type": "markdown",
      "metadata": {
        "id": "-D8ARK7tL9gV"
      },
      "source": [
        "List comprehensions können auf Bedingungen (\"if x % 2 ==0\" -- Falls X teilbar durch 2 ist) enthalten:"
      ]
    },
    {
      "cell_type": "code",
      "metadata": {
        "colab": {
          "base_uri": "https://localhost:8080/"
        },
        "id": "yUtgOyyYL9gV",
        "outputId": "81deb4a7-6a70-4271-e7f5-354c23906e6a"
      },
      "source": [
        "nums = [0, 1, 2, 3, 4]\n",
        "even_squares = [x ** 2 for x in nums if x % 2 == 0]\n",
        "print(even_squares)"
      ],
      "execution_count": 21,
      "outputs": [
        {
          "output_type": "stream",
          "text": [
            "[0, 4, 16]\n"
          ],
          "name": "stdout"
        }
      ]
    },
    {
      "cell_type": "markdown",
      "metadata": {
        "id": "H8xsUEFpL9gZ"
      },
      "source": [
        "####Dictionaries - Zuordnungstabelle"
      ]
    },
    {
      "cell_type": "markdown",
      "metadata": {
        "id": "kkjAGMAJL9ga"
      },
      "source": [
        "Eine Zuordnungstabelle (dictionary) speichert (Schlüssel (key), Wert (value)) Paare, ähnlich zu einer `Map` in Java oder einem object in Javascript. Ihr könnt es so verwenden:"
      ]
    },
    {
      "cell_type": "code",
      "metadata": {
        "colab": {
          "base_uri": "https://localhost:8080/"
        },
        "id": "XBYI1MrYL9gb",
        "outputId": "b8548372-8343-4ee1-c253-57ad71c072fe"
      },
      "source": [
        "d = {'cat': 'cute', 'dog': 'furry'}  # Erstelle ein neues new dictionary mit Daten\n",
        "print(d['cat'])       # Zugriff auf einen Eintrag; schreibt \"cute\"\n",
        "print('cat' in d)     # Schaue ob der Schluessel \"cat\" ist im dictionary; schreibt \"True\""
      ],
      "execution_count": 22,
      "outputs": [
        {
          "output_type": "stream",
          "text": [
            "cute\n",
            "True\n"
          ],
          "name": "stdout"
        }
      ]
    },
    {
      "cell_type": "code",
      "metadata": {
        "colab": {
          "base_uri": "https://localhost:8080/"
        },
        "id": "pS7e-G-HL9gf",
        "outputId": "6f8a2729-6734-4461-b1a4-209ec17d3263"
      },
      "source": [
        "d['fish'] = 'wet'    # Setze einen Eintrag im dictionary\n",
        "print(d['fish'])      # Schreibt \"wet\""
      ],
      "execution_count": 23,
      "outputs": [
        {
          "output_type": "stream",
          "text": [
            "wet\n"
          ],
          "name": "stdout"
        }
      ]
    },
    {
      "cell_type": "code",
      "metadata": {
        "colab": {
          "base_uri": "https://localhost:8080/",
          "height": 198
        },
        "id": "tFY065ItL9gi",
        "outputId": "b44f3c73-4388-44f5-8641-c63ef0e99ca8"
      },
      "source": [
        "print(d['monkey'])  # KeyError: 'monkey' not a key of d\n",
        "# Dies wirft einen Fehler da der Schluessel \"monkey\" nicht im dictionary\n",
        "# enthalten ist."
      ],
      "execution_count": 24,
      "outputs": [
        {
          "output_type": "error",
          "ename": "KeyError",
          "evalue": "ignored",
          "traceback": [
            "\u001b[0;31m---------------------------------------------------------------------------\u001b[0m",
            "\u001b[0;31mKeyError\u001b[0m                                  Traceback (most recent call last)",
            "\u001b[0;32m<ipython-input-24-a1d8864e5c81>\u001b[0m in \u001b[0;36m<module>\u001b[0;34m()\u001b[0m\n\u001b[0;32m----> 1\u001b[0;31m \u001b[0mprint\u001b[0m\u001b[0;34m(\u001b[0m\u001b[0md\u001b[0m\u001b[0;34m[\u001b[0m\u001b[0;34m'monkey'\u001b[0m\u001b[0;34m]\u001b[0m\u001b[0;34m)\u001b[0m  \u001b[0;31m# KeyError: 'monkey' not a key of d\u001b[0m\u001b[0;34m\u001b[0m\u001b[0;34m\u001b[0m\u001b[0m\n\u001b[0m\u001b[1;32m      2\u001b[0m \u001b[0;31m# Dies wirft einen Fehler da der Schluessel \"monkey\" nicht im dictionary\u001b[0m\u001b[0;34m\u001b[0m\u001b[0;34m\u001b[0m\u001b[0;34m\u001b[0m\u001b[0m\n\u001b[1;32m      3\u001b[0m \u001b[0;31m# enthalten ist.\u001b[0m\u001b[0;34m\u001b[0m\u001b[0;34m\u001b[0m\u001b[0;34m\u001b[0m\u001b[0m\n",
            "\u001b[0;31mKeyError\u001b[0m: 'monkey'"
          ]
        }
      ]
    },
    {
      "cell_type": "code",
      "metadata": {
        "colab": {
          "base_uri": "https://localhost:8080/"
        },
        "id": "8TjbEWqML9gl",
        "outputId": "3e73e741-1137-4966-d8eb-23a0a3434066"
      },
      "source": [
        "print(d.get('monkey', 'N/A'))  # Zugriff auf ein Element mit Vorgabewert; schreibt \"N/A\"\n",
        "print(d.get('fish', 'N/A'))    # Zugriff auf ein Element mit Vorgabewert; schreibt \"wet\""
      ],
      "execution_count": 25,
      "outputs": [
        {
          "output_type": "stream",
          "text": [
            "N/A\n",
            "wet\n"
          ],
          "name": "stdout"
        }
      ]
    },
    {
      "cell_type": "code",
      "metadata": {
        "colab": {
          "base_uri": "https://localhost:8080/"
        },
        "id": "0EItdNBJL9go",
        "outputId": "cee5d7d6-1ea7-47d2-d217-1f78cc5d6145"
      },
      "source": [
        "del d['fish']        # Entfernt ein Element vom dictionary\n",
        "print(d.get('fish', 'N/A')) # \"fish\" ist kein Schluessel mehr; schreibt \"N/A\""
      ],
      "execution_count": 26,
      "outputs": [
        {
          "output_type": "stream",
          "text": [
            "N/A\n"
          ],
          "name": "stdout"
        }
      ]
    },
    {
      "cell_type": "markdown",
      "metadata": {
        "id": "wqm4dRZNL9gr"
      },
      "source": [
        "Ihr könnt alle Informationen in der [Dokumentation](https://docs.python.org/2/library/stdtypes.html#dict) finden."
      ]
    },
    {
      "cell_type": "markdown",
      "metadata": {
        "id": "IxwEqHlGL9gr"
      },
      "source": [
        "So kann man einfach über alle Schlüssel und Werte eines dictionary iterieren:"
      ]
    },
    {
      "cell_type": "code",
      "metadata": {
        "colab": {
          "base_uri": "https://localhost:8080/"
        },
        "id": "rYfz7ZKNL9gs",
        "outputId": "f9e8c1df-ded6-44cb-824d-af6454e5d9b8"
      },
      "source": [
        "d = {'person': 2, 'cat': 4, 'spider': 8}\n",
        "for animal, legs in d.items():\n",
        "    print('A {} has {} legs'.format(animal, legs))"
      ],
      "execution_count": 27,
      "outputs": [
        {
          "output_type": "stream",
          "text": [
            "A person has 2 legs\n",
            "A cat has 4 legs\n",
            "A spider has 8 legs\n"
          ],
          "name": "stdout"
        }
      ]
    },
    {
      "cell_type": "markdown",
      "metadata": {
        "id": "17sxiOpzL9gz"
      },
      "source": [
        "Dictionary comprehensions:  Ähnlich wie \"list comprehensions\" kann man dictionieres zusammenbauen, z.B.:"
      ]
    },
    {
      "cell_type": "code",
      "metadata": {
        "colab": {
          "base_uri": "https://localhost:8080/"
        },
        "id": "8PB07imLL9gz",
        "outputId": "34b40a9a-25a4-49b0-bfb3-522b60b74a7c"
      },
      "source": [
        "nums = [0, 1, 2, 3, 4]\n",
        "even_num_to_square = {x: x ** 2 for x in nums if x % 2 == 0}\n",
        "print(even_num_to_square)"
      ],
      "execution_count": 28,
      "outputs": [
        {
          "output_type": "stream",
          "text": [
            "{0: 0, 2: 4, 4: 16}\n"
          ],
          "name": "stdout"
        }
      ]
    },
    {
      "cell_type": "markdown",
      "metadata": {
        "id": "V9MHfUdvL9g2"
      },
      "source": [
        "####Sets - Mengen"
      ]
    },
    {
      "cell_type": "markdown",
      "metadata": {
        "id": "Rpm4UtNpL9g2"
      },
      "source": [
        "Eine Menge (set) ist eine ungeordnete Kollektion von einzigartigen Elementen. Hier ist ein einfaches Beispiel:"
      ]
    },
    {
      "cell_type": "code",
      "metadata": {
        "colab": {
          "base_uri": "https://localhost:8080/"
        },
        "id": "MmyaniLsL9g2",
        "outputId": "eda60946-7858-4df3-8dc5-2b581674e8d5"
      },
      "source": [
        "animals = {'cat', 'dog'}\n",
        "print('cat' in animals)   # Ueberpruefe ob ein Element in der Menge ist; schreibt \"True\"\n",
        "print('fish' in animals)  # schreibt \"False\"\n"
      ],
      "execution_count": 29,
      "outputs": [
        {
          "output_type": "stream",
          "text": [
            "True\n",
            "False\n"
          ],
          "name": "stdout"
        }
      ]
    },
    {
      "cell_type": "code",
      "metadata": {
        "colab": {
          "base_uri": "https://localhost:8080/"
        },
        "id": "ElJEyK86L9g6",
        "outputId": "001f807d-c3d9-435e-9edb-70a399f73aa8"
      },
      "source": [
        "animals.add('fish')      # Fuegt ein Element zum Set hinzu.\n",
        "print('fish' in animals)\n",
        "print(len(animals))       # Anzahl der Elemente im Set."
      ],
      "execution_count": 30,
      "outputs": [
        {
          "output_type": "stream",
          "text": [
            "True\n",
            "3\n"
          ],
          "name": "stdout"
        }
      ]
    },
    {
      "cell_type": "code",
      "metadata": {
        "colab": {
          "base_uri": "https://localhost:8080/"
        },
        "id": "5uGmrxdPL9g9",
        "outputId": "370e1009-c305-429a-fb17-6a09910618e4"
      },
      "source": [
        "animals.add('cat')       # Wenn man ein Element hinzufuegt, das schon im Set ist, passiert nichts.\n",
        "print(len(animals))       \n",
        "animals.remove('cat')    # Entferne ein Element vom Set.\n",
        "print(len(animals))       "
      ],
      "execution_count": 31,
      "outputs": [
        {
          "output_type": "stream",
          "text": [
            "3\n",
            "2\n"
          ],
          "name": "stdout"
        }
      ]
    },
    {
      "cell_type": "markdown",
      "metadata": {
        "id": "zk2DbvLKL9g_"
      },
      "source": [
        "_Loops - Schleifen_: Man benutzt die gleiche Syntax wie wenn man über Listen iteriert; da Sets aber keine Reihenfolge der Elemente speichern kann man keine Annahmen über die Reihenfolge beim Iterieren machen:"
      ]
    },
    {
      "cell_type": "code",
      "metadata": {
        "colab": {
          "base_uri": "https://localhost:8080/"
        },
        "id": "K47KYNGyL9hA",
        "outputId": "738f8ed2-fea0-4ac5-f304-84441679f172"
      },
      "source": [
        "animals = {'cat', 'dog', 'fish'}\n",
        "for idx, animal in enumerate(animals):\n",
        "    print('#{}: {}'.format(idx + 1, animal))"
      ],
      "execution_count": 32,
      "outputs": [
        {
          "output_type": "stream",
          "text": [
            "#1: cat\n",
            "#2: dog\n",
            "#3: fish\n"
          ],
          "name": "stdout"
        }
      ]
    },
    {
      "cell_type": "markdown",
      "metadata": {
        "id": "puq4S8buL9hC"
      },
      "source": [
        "Set comprehensions: Genau wie bei Listen und dictionaries, können wir einfach Sets mit set comprehension erstellen:"
      ]
    },
    {
      "cell_type": "code",
      "metadata": {
        "colab": {
          "base_uri": "https://localhost:8080/"
        },
        "id": "iw7k90k3L9hC",
        "outputId": "1e08ff1b-acc9-47a6-e86d-7f7e1498312f"
      },
      "source": [
        "from math import sqrt\n",
        "print({int(sqrt(x)) for x in range(30)})"
      ],
      "execution_count": 33,
      "outputs": [
        {
          "output_type": "stream",
          "text": [
            "{0, 1, 2, 3, 4, 5}\n"
          ],
          "name": "stdout"
        }
      ]
    },
    {
      "cell_type": "markdown",
      "metadata": {
        "id": "qPsHSKB1L9hF"
      },
      "source": [
        "####Tuples"
      ]
    },
    {
      "cell_type": "markdown",
      "metadata": {
        "id": "kucc0LKVL9hG"
      },
      "source": [
        "Ein Tuple ist eine (unveränderbare) geordnete Liste von Werten. Ein Tuple ist ähnlich zu einer Liste; einer der größten Unterschiede ist, dass Tuples als Schlüssel in dictionaries und Werte in Sets verwendet werden können, Listen aber nicht. Hier ist ein einfaches Beispiel:"
      ]
    },
    {
      "cell_type": "code",
      "metadata": {
        "colab": {
          "base_uri": "https://localhost:8080/"
        },
        "id": "9wHUyTKxL9hH",
        "outputId": "14b9f4d0-7507-4a9c-8e9e-11782849542e"
      },
      "source": [
        "d = {(x, x + 1): x for x in range(10)}  # Erstelle ein dictionary mit tuple Schluesseln.\n",
        "t = (5, 6)       # Erstelle ein Tuple\n",
        "print(type(t))\n",
        "print(d[t])       \n",
        "print(d[(1, 2)])"
      ],
      "execution_count": 34,
      "outputs": [
        {
          "output_type": "stream",
          "text": [
            "<class 'tuple'>\n",
            "5\n",
            "1\n"
          ],
          "name": "stdout"
        }
      ]
    },
    {
      "cell_type": "code",
      "metadata": {
        "colab": {
          "base_uri": "https://localhost:8080/",
          "height": 181
        },
        "id": "HoO8zYKzL9hJ",
        "outputId": "68c11189-ce8a-44c7-a642-57136533f5f3"
      },
      "source": [
        "t[0] = 1\n",
        "# Das erzeugt einen Fehler - man kann Tuple nicht verändern."
      ],
      "execution_count": 35,
      "outputs": [
        {
          "output_type": "error",
          "ename": "TypeError",
          "evalue": "ignored",
          "traceback": [
            "\u001b[0;31m---------------------------------------------------------------------------\u001b[0m",
            "\u001b[0;31mTypeError\u001b[0m                                 Traceback (most recent call last)",
            "\u001b[0;32m<ipython-input-35-c02d00b4195b>\u001b[0m in \u001b[0;36m<module>\u001b[0;34m()\u001b[0m\n\u001b[0;32m----> 1\u001b[0;31m \u001b[0mt\u001b[0m\u001b[0;34m[\u001b[0m\u001b[0;36m0\u001b[0m\u001b[0;34m]\u001b[0m \u001b[0;34m=\u001b[0m \u001b[0;36m1\u001b[0m\u001b[0;34m\u001b[0m\u001b[0;34m\u001b[0m\u001b[0m\n\u001b[0m\u001b[1;32m      2\u001b[0m \u001b[0;31m# Das erzeugt einen Fehler - man kann Tuple nicht verändern.\u001b[0m\u001b[0;34m\u001b[0m\u001b[0;34m\u001b[0m\u001b[0;34m\u001b[0m\u001b[0m\n",
            "\u001b[0;31mTypeError\u001b[0m: 'tuple' object does not support item assignment"
          ]
        }
      ]
    },
    {
      "cell_type": "markdown",
      "metadata": {
        "id": "AXA4jrEOL9hM"
      },
      "source": [
        "###Functions - Funktionen "
      ]
    },
    {
      "cell_type": "markdown",
      "metadata": {
        "id": "WaRms-QfL9hN"
      },
      "source": [
        "Python-Funktionen werden mit dem `def` keyword definiert. Zum Beispiel:"
      ]
    },
    {
      "cell_type": "code",
      "metadata": {
        "colab": {
          "base_uri": "https://localhost:8080/"
        },
        "id": "kiMDUr58L9hN",
        "outputId": "09743f8e-d573-40eb-b594-67df37d85c9c"
      },
      "source": [
        "def sign(x):\n",
        "    if x > 0:\n",
        "        return 'positive'\n",
        "    elif x < 0:\n",
        "        return 'negative'\n",
        "    else:\n",
        "        return 'zero'\n",
        "\n",
        "for x in [-1, 0, 1]:\n",
        "    print(sign(x))"
      ],
      "execution_count": 36,
      "outputs": [
        {
          "output_type": "stream",
          "text": [
            "negative\n",
            "zero\n",
            "positive\n"
          ],
          "name": "stdout"
        }
      ]
    },
    {
      "cell_type": "markdown",
      "metadata": {
        "id": "U-QJFt8TL9hR"
      },
      "source": [
        "Wir werden oft Funktionen definieren die optionale Argumente benutzen: ('loud' ist optional und 'False' ist der Standardwert)"
      ]
    },
    {
      "cell_type": "code",
      "metadata": {
        "colab": {
          "base_uri": "https://localhost:8080/"
        },
        "id": "PfsZ3DazL9hR",
        "outputId": "34aa867d-2ba6-4ea7-a543-2cf1f8b736fd"
      },
      "source": [
        "def hello(name, loud=False):\n",
        "    if loud:\n",
        "        print('HELLO, {}'.format(name.upper()))\n",
        "    else:\n",
        "        print('Hello, {}!'.format(name))\n",
        "\n",
        "hello('Bob')\n",
        "hello('Fred', loud=True)"
      ],
      "execution_count": 37,
      "outputs": [
        {
          "output_type": "stream",
          "text": [
            "Hello, Bob!\n",
            "HELLO, FRED\n"
          ],
          "name": "stdout"
        }
      ]
    },
    {
      "cell_type": "markdown",
      "metadata": {
        "id": "ObA9PRtQL9hT"
      },
      "source": [
        "###Classes - Klassen"
      ]
    },
    {
      "cell_type": "markdown",
      "metadata": {
        "id": "hAzL_lTkL9hU"
      },
      "source": [
        "So definiert man Klassen in Python:"
      ]
    },
    {
      "cell_type": "code",
      "metadata": {
        "colab": {
          "base_uri": "https://localhost:8080/"
        },
        "id": "RWdbaGigL9hU",
        "outputId": "cb599138-ec5d-4bcf-e0ca-164a65d0e8ad"
      },
      "source": [
        "class Greeter:\n",
        "\n",
        "    # Konstruktor\n",
        "    def __init__(self, name):\n",
        "        self.name = name  # Erstelle eine Instanzvariable.\n",
        "\n",
        "    # Instanzmethode\n",
        "    def greet(self, loud=False):\n",
        "        if loud:\n",
        "          print('HELLO, {}'.format(self.name.upper()))\n",
        "        else:\n",
        "          print('Hello, {}!'.format(self.name))\n",
        "\n",
        "g = Greeter('Fred')  # Erstelle eine Instanz der \"Greeter\"-Klasse.\n",
        "g.greet()            # Rufe die Instanzmethode auf; schreibt \"Hello, Fred\"\n",
        "g.greet(loud=True)   # Rufe die Instanzmethode auf; schreibt \"HELLO, FRED!\""
      ],
      "execution_count": 38,
      "outputs": [
        {
          "output_type": "stream",
          "text": [
            "Hello, Fred!\n",
            "HELLO, FRED\n"
          ],
          "name": "stdout"
        }
      ]
    },
    {
      "cell_type": "markdown",
      "metadata": {
        "id": "3cfrOV4dL9hW"
      },
      "source": [
        "##Numpy"
      ]
    },
    {
      "cell_type": "markdown",
      "metadata": {
        "id": "fY12nHhyL9hX"
      },
      "source": [
        "Numpy ist die grundlegende Bibliothek für wissenschaftliches Arbeiten in Python.Numpy ermöglicht die Verwendung von hoch-performanten multidimensionalen arrays und Tools um mit diesen Arrays zu arbeiten."
      ]
    },
    {
      "cell_type": "markdown",
      "metadata": {
        "id": "lZMyAdqhL9hY"
      },
      "source": [
        "Um Numpy zu benutzen, müssen wir zuerst das `numpy` Paket importieren:"
      ]
    },
    {
      "cell_type": "code",
      "metadata": {
        "id": "58QdX8BLL9hZ"
      },
      "source": [
        "import numpy as np"
      ],
      "execution_count": 39,
      "outputs": []
    },
    {
      "cell_type": "markdown",
      "metadata": {
        "id": "DDx6v1EdL9hb"
      },
      "source": [
        "###Arrays"
      ]
    },
    {
      "cell_type": "markdown",
      "metadata": {
        "id": "f-Zv3f7LL9hc"
      },
      "source": [
        "Ein Numpy-Array ist ein Raster von Werten, alle mit dem selben Typ, und kann mit einem Tuple von integers indiziert werden. Die Anzahl der Dimensionen ist der Rang (Rank) des Arrays; Die Form (shape) des Arrays is ein Tuple mit integers die die Anzahl der Elemente in dieser Dimension angeben."
      ]
    },
    {
      "cell_type": "markdown",
      "metadata": {
        "id": "_eMTRnZRL9hc"
      },
      "source": [
        "Wir können ein Numpy-Array mit geschachtelten Python-Listen initialisieren und mit eckigen Klammern auf die Elemente zugreifen:"
      ]
    },
    {
      "cell_type": "code",
      "metadata": {
        "colab": {
          "base_uri": "https://localhost:8080/"
        },
        "id": "-l3JrGxCL9hc",
        "outputId": "ee4e7bef-0524-436e-dba0-7d4527036ac1"
      },
      "source": [
        "a = np.array([1, 2, 3])  # Erstelle ein Rang-1 Array\n",
        "print(type(a), a.shape, a[0], a[1], a[2])\n",
        "a[0] = 5                 # Aendere ein Element des Arrays\n",
        "print(a)                  "
      ],
      "execution_count": 40,
      "outputs": [
        {
          "output_type": "stream",
          "text": [
            "<class 'numpy.ndarray'> (3,) 1 2 3\n",
            "[5 2 3]\n"
          ],
          "name": "stdout"
        }
      ]
    },
    {
      "cell_type": "code",
      "metadata": {
        "colab": {
          "base_uri": "https://localhost:8080/"
        },
        "id": "ma6mk-kdL9hh",
        "outputId": "8c07dfa3-85cf-423a-cc06-8f10dd37f218"
      },
      "source": [
        "b = np.array([[1,2,3],[4,5,6]])   # Erstelle ein Rang-2 Array\n",
        "print(b)"
      ],
      "execution_count": 41,
      "outputs": [
        {
          "output_type": "stream",
          "text": [
            "[[1 2 3]\n",
            " [4 5 6]]\n"
          ],
          "name": "stdout"
        }
      ]
    },
    {
      "cell_type": "code",
      "metadata": {
        "colab": {
          "base_uri": "https://localhost:8080/"
        },
        "id": "ymfSHAwtL9hj",
        "outputId": "9fb2968b-b29a-4603-ecec-8cf5d8cd5b6b"
      },
      "source": [
        "print(b.shape)\n",
        "print(b[0, 0], b[0, 1], b[1, 0])"
      ],
      "execution_count": 42,
      "outputs": [
        {
          "output_type": "stream",
          "text": [
            "(2, 3)\n",
            "1 2 4\n"
          ],
          "name": "stdout"
        }
      ]
    },
    {
      "cell_type": "markdown",
      "metadata": {
        "id": "F2qwdyvuL9hn"
      },
      "source": [
        "Numpy bietet auch viele Funktionen um Arrays zu erstellen:"
      ]
    },
    {
      "cell_type": "code",
      "metadata": {
        "colab": {
          "base_uri": "https://localhost:8080/"
        },
        "id": "mVTN_EBqL9hn",
        "outputId": "30554b0e-9f2c-403b-bae3-d355298f1da7"
      },
      "source": [
        "a = np.zeros((2,2))  # Erstelle ein Array voller Nullen.\n",
        "print(a)"
      ],
      "execution_count": 43,
      "outputs": [
        {
          "output_type": "stream",
          "text": [
            "[[0. 0.]\n",
            " [0. 0.]]\n"
          ],
          "name": "stdout"
        }
      ]
    },
    {
      "cell_type": "code",
      "metadata": {
        "colab": {
          "base_uri": "https://localhost:8080/"
        },
        "id": "skiKlNmlL9h5",
        "outputId": "2a78254f-a045-442f-fa37-8d8622574973"
      },
      "source": [
        "b = np.ones((1,2))   # Erstelle ein Array voller Einsen\n",
        "print(b)"
      ],
      "execution_count": 44,
      "outputs": [
        {
          "output_type": "stream",
          "text": [
            "[[1. 1.]]\n"
          ],
          "name": "stdout"
        }
      ]
    },
    {
      "cell_type": "code",
      "metadata": {
        "colab": {
          "base_uri": "https://localhost:8080/"
        },
        "id": "HtFsr03bL9h7",
        "outputId": "0707eacf-02c6-4c4b-f0ae-46030f35aaf3"
      },
      "source": [
        "c = np.full((2,2), 7) # Erstelle ein Array mit einer Konstante\n",
        "print(c)"
      ],
      "execution_count": 45,
      "outputs": [
        {
          "output_type": "stream",
          "text": [
            "[[7 7]\n",
            " [7 7]]\n"
          ],
          "name": "stdout"
        }
      ]
    },
    {
      "cell_type": "code",
      "metadata": {
        "colab": {
          "base_uri": "https://localhost:8080/"
        },
        "id": "-QcALHvkL9h9",
        "outputId": "4aba34ae-2afc-4b44-f727-a49acb1732b4"
      },
      "source": [
        "d = np.eye(2)        # Erstelle eine 2x2 Einheitsmatrix\n",
        "print(d)"
      ],
      "execution_count": 46,
      "outputs": [
        {
          "output_type": "stream",
          "text": [
            "[[1. 0.]\n",
            " [0. 1.]]\n"
          ],
          "name": "stdout"
        }
      ]
    },
    {
      "cell_type": "code",
      "metadata": {
        "colab": {
          "base_uri": "https://localhost:8080/"
        },
        "id": "RCpaYg9qL9iA",
        "outputId": "c0898853-2e75-4270-ff29-89283ee749d4"
      },
      "source": [
        "e = np.random.random((2,2)) # Erstelle ein 2x2 Array mit zufaelligen Werten \n",
        "print(e)"
      ],
      "execution_count": 47,
      "outputs": [
        {
          "output_type": "stream",
          "text": [
            "[[0.55799835 0.91537642]\n",
            " [0.22261683 0.72098233]]\n"
          ],
          "name": "stdout"
        }
      ]
    },
    {
      "cell_type": "markdown",
      "metadata": {
        "id": "jI5qcSDfL9iC"
      },
      "source": [
        "###Array indexing - Zugriff auf Numpy Arrays"
      ]
    },
    {
      "cell_type": "markdown",
      "metadata": {
        "id": "M-E4MUeVL9iC"
      },
      "source": [
        "Numpy bietet mehrere Wege um auf Arrays zuzugreifen:"
      ]
    },
    {
      "cell_type": "markdown",
      "metadata": {
        "id": "QYv4JyIEL9iD"
      },
      "source": [
        "Slicing: Ähnlich wie Python-Listen, können Numpy-Arrays geslicet werden. Da Arrays eventuell mehr-dimensional sind, muss man für jede Dimension ein \"slice\" angeben:"
      ]
    },
    {
      "cell_type": "code",
      "metadata": {
        "colab": {
          "base_uri": "https://localhost:8080/"
        },
        "id": "wLWA0udwL9iD",
        "outputId": "e52e22c7-17eb-483b-83db-1512aa4bc45c"
      },
      "source": [
        "import numpy as np\n",
        "\n",
        "# Erstelle den folgenden Rang 2 Array mit shape (3, 4)\n",
        "# [[ 1  2  3  4]\n",
        "#  [ 5  6  7  8]\n",
        "#  [ 9 10 11 12]]\n",
        "a = np.array([[1,2,3,4], [5,6,7,8], [9,10,11,12]])\n",
        "\n",
        "# Benutze slicing um ein Teilarray mit den ersten zwei Reihen\n",
        "# und Spalte 1 und 2 (wir fangen bei 0 an zu zaehlen); b ist ein Array mit shape (2, 2):\n",
        "# [[2 3]\n",
        "#  [6 7]]\n",
        "b = a[:2, 1:3]\n",
        "print(b)"
      ],
      "execution_count": 48,
      "outputs": [
        {
          "output_type": "stream",
          "text": [
            "[[2 3]\n",
            " [6 7]]\n"
          ],
          "name": "stdout"
        }
      ]
    },
    {
      "cell_type": "markdown",
      "metadata": {
        "id": "KahhtZKYL9iF"
      },
      "source": [
        "Ein \"slice\" von einem Numpy Array ist eine Ansicht der gleichen Daten - wenn man die Daten vom \"slice\" verändert, ändert man auch das originale Array."
      ]
    },
    {
      "cell_type": "code",
      "metadata": {
        "colab": {
          "base_uri": "https://localhost:8080/"
        },
        "id": "1kmtaFHuL9iG",
        "outputId": "8df4ba52-814f-4f35-f4a5-2d2b3542d112"
      },
      "source": [
        "print(a[0, 1])\n",
        "b[0, 0] = 77    # b[0, 0] ist das gleiche Stueck von Daten, wie a[0, 1]\n",
        "print(a[0, 1]) "
      ],
      "execution_count": 49,
      "outputs": [
        {
          "output_type": "stream",
          "text": [
            "2\n",
            "77\n"
          ],
          "name": "stdout"
        }
      ]
    },
    {
      "cell_type": "markdown",
      "metadata": {
        "id": "_Zcf3zi-L9iI"
      },
      "source": [
        "Man kann auch integer-Indizes mit slice-Indizes kombinieren. Damit erhält man aber ein Array mit niedrigerem Rang als der Originalarray:"
      ]
    },
    {
      "cell_type": "code",
      "metadata": {
        "colab": {
          "base_uri": "https://localhost:8080/"
        },
        "id": "G6lfbPuxL9iJ",
        "outputId": "3119016b-dca6-40f9-c14a-2ef123ee2bc1"
      },
      "source": [
        "# Erstelle den folgenden Rang-2 Array mit shape (3, 4)\n",
        "a = np.array([[1,2,3,4], [5,6,7,8], [9,10,11,12]])\n",
        "print(a)"
      ],
      "execution_count": 50,
      "outputs": [
        {
          "output_type": "stream",
          "text": [
            "[[ 1  2  3  4]\n",
            " [ 5  6  7  8]\n",
            " [ 9 10 11 12]]\n"
          ],
          "name": "stdout"
        }
      ]
    },
    {
      "cell_type": "markdown",
      "metadata": {
        "id": "NCye3NXhL9iL"
      },
      "source": [
        "Hier gibt es verschiedene Arten um die mittlere Reihe des Arrays zu indizieren.\n",
        "Wenn man Integer-Indizes mit slicing kombiniert erhält man ein Array mit niedrigerem Rang, während man mit nur slicing den gleichen Rang wie vom Originalarraz erhält:"
      ]
    },
    {
      "cell_type": "code",
      "metadata": {
        "colab": {
          "base_uri": "https://localhost:8080/"
        },
        "id": "EOiEMsmNL9iL",
        "outputId": "b1538412-7340-4a83-8767-d7e7bd73a6be"
      },
      "source": [
        "row_r1 = a[1, :]    # Rang 1 Ansicht von der zweiten Reihe\n",
        "row_r2 = a[1:2, :]  # Rang 2 Ansicht von der zweiten Reihe\n",
        "row_r3 = a[[1], :]  # Rang 2 Ansicht von der zweiten Reihe\n",
        "print(row_r1, row_r1.shape)\n",
        "print(row_r2, row_r2.shape)\n",
        "print(row_r3, row_r3.shape)"
      ],
      "execution_count": 51,
      "outputs": [
        {
          "output_type": "stream",
          "text": [
            "[5 6 7 8] (4,)\n",
            "[[5 6 7 8]] (1, 4)\n",
            "[[5 6 7 8]] (1, 4)\n"
          ],
          "name": "stdout"
        }
      ]
    },
    {
      "cell_type": "code",
      "metadata": {
        "colab": {
          "base_uri": "https://localhost:8080/"
        },
        "id": "JXu73pfDL9iN",
        "outputId": "a9337883-1a83-4ccd-f04b-a2ec89031631"
      },
      "source": [
        "# Das gleiche gilt wenn wir Spalten indizieren:\n",
        "col_r1 = a[:, 1]\n",
        "col_r2 = a[:, 1:2]\n",
        "print(col_r1, col_r1.shape)\n",
        "print()\n",
        "print(col_r2, col_r2.shape)"
      ],
      "execution_count": 52,
      "outputs": [
        {
          "output_type": "stream",
          "text": [
            "[ 2  6 10] (3,)\n",
            "\n",
            "[[ 2]\n",
            " [ 6]\n",
            " [10]] (3, 1)\n"
          ],
          "name": "stdout"
        }
      ]
    },
    {
      "cell_type": "markdown",
      "metadata": {
        "id": "VP3916bOL9iP"
      },
      "source": [
        "Indizieren mit Integerarrays: Wenn man Numpyarrays mit slicing indiziert erhält man immer eine Ansicht auf ein Teilarray des Originalarrays. Andererseits kann man mit Integerarrays beliebige neue Arrays aus einem Anderen Array erstellen:"
      ]
    },
    {
      "cell_type": "code",
      "metadata": {
        "colab": {
          "base_uri": "https://localhost:8080/"
        },
        "id": "TBnWonIDL9iP",
        "outputId": "7b2b7ced-5f13-4cd0-9660-a7a965354ee3"
      },
      "source": [
        "a = np.array([[1,2], [3, 4], [5, 6]])\n",
        "\n",
        "# Das ist ein Beispiel , wie man mit Integerarrays indiziert.\n",
        "# Das Ergebnis hat shape (3,) und\n",
        "print(a[[0, 1, 2], [0, 1, 0]])\n",
        "\n",
        "# Das obere Beispiel ist das gleiche, wie:\n",
        "print(np.array([a[0, 0], a[1, 1], a[2, 0]]))"
      ],
      "execution_count": 53,
      "outputs": [
        {
          "output_type": "stream",
          "text": [
            "[1 4 5]\n",
            "[1 4 5]\n"
          ],
          "name": "stdout"
        }
      ]
    },
    {
      "cell_type": "code",
      "metadata": {
        "colab": {
          "base_uri": "https://localhost:8080/"
        },
        "id": "n7vuati-L9iR",
        "outputId": "d9ee4316-ddc5-4d79-c31b-2ed5c312932a"
      },
      "source": [
        "# Wenn man Integerarrays fuer das indizieren benutzt, kann man Elemente\n",
        "# vom Originalarray mehrmals verwenden:\n",
        "print(a[[0, 0], [1, 1]])\n",
        "\n",
        "# Das obere Beispiel ist das gleiche, wie:\n",
        "print(np.array([a[0, 1], a[0, 1]]))"
      ],
      "execution_count": 54,
      "outputs": [
        {
          "output_type": "stream",
          "text": [
            "[2 2]\n",
            "[2 2]\n"
          ],
          "name": "stdout"
        }
      ]
    },
    {
      "cell_type": "markdown",
      "metadata": {
        "id": "kaipSLafL9iU"
      },
      "source": [
        "Ein nützlicher Trick mit Integerarrayindizierung ist es eine Element pro Reihe / Spalte zu bearbeiten:"
      ]
    },
    {
      "cell_type": "code",
      "metadata": {
        "colab": {
          "base_uri": "https://localhost:8080/"
        },
        "id": "ehqsV7TXL9iU",
        "outputId": "9cf6da22-cf55-48d2-fde2-486481bd10bb"
      },
      "source": [
        "# Erstelle ein neues Array von dem wir Elemente auswaehlen.\n",
        "a = np.array([[1,2,3], [4,5,6], [7,8,9], [10, 11, 12]])\n",
        "print(a)"
      ],
      "execution_count": 55,
      "outputs": [
        {
          "output_type": "stream",
          "text": [
            "[[ 1  2  3]\n",
            " [ 4  5  6]\n",
            " [ 7  8  9]\n",
            " [10 11 12]]\n"
          ],
          "name": "stdout"
        }
      ]
    },
    {
      "cell_type": "code",
      "metadata": {
        "colab": {
          "base_uri": "https://localhost:8080/"
        },
        "id": "pAPOoqy5L9iV",
        "outputId": "8f4e55af-d63a-4337-da1c-3e41a471eef1"
      },
      "source": [
        "# Erstelle ein Array mit Indizes.\n",
        "b = np.array([0, 2, 0, 1])\n",
        "\n",
        "# Waehle ein Element von jeder Reihe mit den Indizes in b.\n",
        "print(a[np.arange(4), b])  # Schreibt \"[ 1  6  7 11]\""
      ],
      "execution_count": 56,
      "outputs": [
        {
          "output_type": "stream",
          "text": [
            "[ 1  6  7 11]\n"
          ],
          "name": "stdout"
        }
      ]
    },
    {
      "cell_type": "code",
      "metadata": {
        "colab": {
          "base_uri": "https://localhost:8080/"
        },
        "id": "6v1PdI1DL9ib",
        "outputId": "05e5ed43-326c-4e32-a5f3-6fac14d0375b"
      },
      "source": [
        "# Bearbeite ein Element von jeder Reihe mit den Indizes in b.\n",
        "a[np.arange(4), b] += 10\n",
        "print(a)"
      ],
      "execution_count": 57,
      "outputs": [
        {
          "output_type": "stream",
          "text": [
            "[[11  2  3]\n",
            " [ 4  5 16]\n",
            " [17  8  9]\n",
            " [10 21 12]]\n"
          ],
          "name": "stdout"
        }
      ]
    },
    {
      "cell_type": "markdown",
      "metadata": {
        "id": "kaE8dBGgL9id"
      },
      "source": [
        "Indizierung mit Boolean Arrays: Indizierung mit Boolean Arrays kann beliebige Elemente aus einem Array auswählen. Es wird oft benutzt umd Elemente zu wählen die eine bestimmte Bedingung erfüllen:"
      ]
    },
    {
      "cell_type": "code",
      "metadata": {
        "colab": {
          "base_uri": "https://localhost:8080/"
        },
        "id": "32PusjtKL9id",
        "outputId": "be402f0c-efc3-4174-e0f1-a046bd484541"
      },
      "source": [
        "a = np.array([[1,2], [3, 4], [5, 6]])\n",
        "\n",
        "print(a)\n",
        "\n",
        "bool_idx = (a > 2)  # Finde alle Elemente die groesser als 2 sind;\n",
        "                    # das Ergebnis is ein Array mit Boolean Werten mit dem\n",
        "                    # gleichen shape wie a, wo jede Zelle von bool_idx beschreibt\n",
        "                    # ob das equivalente Element in a > 2 ist.\n",
        "\n",
        "print(bool_idx)"
      ],
      "execution_count": 58,
      "outputs": [
        {
          "output_type": "stream",
          "text": [
            "[[1 2]\n",
            " [3 4]\n",
            " [5 6]]\n",
            "[[False False]\n",
            " [ True  True]\n",
            " [ True  True]]\n"
          ],
          "name": "stdout"
        }
      ]
    },
    {
      "cell_type": "code",
      "metadata": {
        "colab": {
          "base_uri": "https://localhost:8080/"
        },
        "id": "cb2IRMXaL9if",
        "outputId": "a250279b-8cef-4fcc-c56c-fbfdc729b8a2"
      },
      "source": [
        "# Wir benutzen Boolean Arrayindizierung um ein Rang-1 Array zu erstellen\n",
        "# das die Elemente aus a enthaelt wo bool_idx True ist.\n",
        "print(a[bool_idx])\n",
        "\n",
        "# Wir koennen das gleiche in einer kuerzeren Variante schreiben:\n",
        "print(a[a > 2])"
      ],
      "execution_count": 59,
      "outputs": [
        {
          "output_type": "stream",
          "text": [
            "[3 4 5 6]\n",
            "[3 4 5 6]\n"
          ],
          "name": "stdout"
        }
      ]
    },
    {
      "cell_type": "markdown",
      "metadata": {
        "id": "CdofMonAL9ih"
      },
      "source": [
        "Wir haben einige Details von Arrayindizierung in Numpy ausgelassen, um diese Einführung nicht zu lang zu gestalten. Die Dokumentation enthält weitere Infos."
      ]
    },
    {
      "cell_type": "markdown",
      "metadata": {
        "id": "jTctwqdQL9ih"
      },
      "source": [
        "###Numpy-Datentypen"
      ]
    },
    {
      "cell_type": "markdown",
      "metadata": {
        "id": "kSZQ1WkIL9ih"
      },
      "source": [
        "Jedes Numpy-Array ist ein Raster aus Elementen des selben Typs. Numpy enthält eine Menge numerischer Datentypen die man verwenden kann um Arrays zu erstellen. Numpy versucht automatisch zu verstehen welchen Datentyp man wählen wollte, aber bietet die Funktion an optional explizit anzugeben welcher Datentyp gewünscht ist:"
      ]
    },
    {
      "cell_type": "code",
      "metadata": {
        "colab": {
          "base_uri": "https://localhost:8080/"
        },
        "id": "4za4O0m5L9ih",
        "outputId": "a5c629aa-6040-411d-d6a5-e38a0018be56"
      },
      "source": [
        "x = np.array([1, 2])  # Das laesst numpy den Datentyp auswaehlen numpy \n",
        "y = np.array([1.0, 2.0])  # Das laesst numpy den Datentyp auswaehlen\n",
        "z = np.array([1, 2], dtype=np.int64)  # Das bestimmt den Datentyp explizit\n",
        "\n",
        "print(x.dtype, y.dtype, z.dtype)"
      ],
      "execution_count": 60,
      "outputs": [
        {
          "output_type": "stream",
          "text": [
            "int64 float64 int64\n"
          ],
          "name": "stdout"
        }
      ]
    },
    {
      "cell_type": "markdown",
      "metadata": {
        "id": "RLVIsZQpL9ik"
      },
      "source": [
        "Die [Dokumentation](http://docs.scipy.org/doc/numpy/reference/arrays.dtypes.html) enthält alle Infos zu den Datentypen."
      ]
    },
    {
      "cell_type": "markdown",
      "metadata": {
        "id": "TuB-fdhIL9ik"
      },
      "source": [
        "###Mathematik mit Arrays"
      ]
    },
    {
      "cell_type": "markdown",
      "metadata": {
        "id": "18e8V8elL9ik"
      },
      "source": [
        "Simple mathematische Funktionen operieren auf jedem Element einzeln und können mit den einfachen Operatoren (z.B. +, -, ...) oder über Numpy-Funktionen benutzt werden:"
      ]
    },
    {
      "cell_type": "code",
      "metadata": {
        "colab": {
          "base_uri": "https://localhost:8080/"
        },
        "id": "gHKvBrSKL9il",
        "outputId": "bc7f21db-7953-48a5-ce3e-86193eaac079"
      },
      "source": [
        "x = np.array([[1,2],[3,4]], dtype=np.float64)\n",
        "y = np.array([[5,6],[7,8]], dtype=np.float64)\n",
        "\n",
        "# Per-element Summierung; beide Ergebnisse sind das gleiche Array\n",
        "print(x + y)\n",
        "print(np.add(x, y))"
      ],
      "execution_count": 61,
      "outputs": [
        {
          "output_type": "stream",
          "text": [
            "[[ 6.  8.]\n",
            " [10. 12.]]\n",
            "[[ 6.  8.]\n",
            " [10. 12.]]\n"
          ],
          "name": "stdout"
        }
      ]
    },
    {
      "cell_type": "code",
      "metadata": {
        "colab": {
          "base_uri": "https://localhost:8080/"
        },
        "id": "1fZtIAMxL9in",
        "outputId": "47838114-7c11-415c-f71c-5e5176b2c7e7"
      },
      "source": [
        "# Per-element Differenz; beide Ergebnisse sind das gleiche Array\n",
        "print(x - y)\n",
        "print(np.subtract(x, y))"
      ],
      "execution_count": 62,
      "outputs": [
        {
          "output_type": "stream",
          "text": [
            "[[-4. -4.]\n",
            " [-4. -4.]]\n",
            "[[-4. -4.]\n",
            " [-4. -4.]]\n"
          ],
          "name": "stdout"
        }
      ]
    },
    {
      "cell_type": "code",
      "metadata": {
        "colab": {
          "base_uri": "https://localhost:8080/"
        },
        "id": "nil4AScML9io",
        "outputId": "3ed756d3-2c7e-4f20-c459-285dd957dc8e"
      },
      "source": [
        "# Per-element Produkt; beide Ergebnisse sind das gleiche Array\n",
        "print(x * y)\n",
        "print(np.multiply(x, y))"
      ],
      "execution_count": 63,
      "outputs": [
        {
          "output_type": "stream",
          "text": [
            "[[ 5. 12.]\n",
            " [21. 32.]]\n",
            "[[ 5. 12.]\n",
            " [21. 32.]]\n"
          ],
          "name": "stdout"
        }
      ]
    },
    {
      "cell_type": "code",
      "metadata": {
        "colab": {
          "base_uri": "https://localhost:8080/"
        },
        "id": "0JoA4lH6L9ip",
        "outputId": "b0fb8f08-3366-4c4e-fac4-5595b87f8f83"
      },
      "source": [
        "# Per-element Division; beide Ergebnisse sind das gleiche Array\n",
        "# [[ 0.2         0.33333333]\n",
        "#  [ 0.42857143  0.5       ]]\n",
        "print(x / y)\n",
        "print(np.divide(x, y))"
      ],
      "execution_count": 64,
      "outputs": [
        {
          "output_type": "stream",
          "text": [
            "[[0.2        0.33333333]\n",
            " [0.42857143 0.5       ]]\n",
            "[[0.2        0.33333333]\n",
            " [0.42857143 0.5       ]]\n"
          ],
          "name": "stdout"
        }
      ]
    },
    {
      "cell_type": "code",
      "metadata": {
        "colab": {
          "base_uri": "https://localhost:8080/"
        },
        "id": "g0iZuA6bL9ir",
        "outputId": "050160fa-055b-4ef3-9042-210c7dff0862"
      },
      "source": [
        "# Per-element Wurzel; das Ergebnis is:\n",
        "# [[ 1.          1.41421356]\n",
        "#  [ 1.73205081  2.        ]]\n",
        "print(np.sqrt(x))"
      ],
      "execution_count": 65,
      "outputs": [
        {
          "output_type": "stream",
          "text": [
            "[[1.         1.41421356]\n",
            " [1.73205081 2.        ]]\n"
          ],
          "name": "stdout"
        }
      ]
    },
    {
      "cell_type": "markdown",
      "metadata": {
        "id": "a5d_uujuL9it"
      },
      "source": [
        "Wir benutzen die `dot` Funktion um innere Produkte von Vektoren zu berechen, um einen Vektor mit einer Matrix zu multiplizieren und um Matrizen zu multiplizieren. `dot` kann als Numpy-Funktion oder als Funktion der Arrayinstanzen aufgerufen werden:"
      ]
    },
    {
      "cell_type": "code",
      "metadata": {
        "colab": {
          "base_uri": "https://localhost:8080/"
        },
        "id": "I3FnmoSeL9iu",
        "outputId": "3c9501c0-e0b9-452e-a0ea-8d69e5b41fa9"
      },
      "source": [
        "x = np.array([[1,2],[3,4]])\n",
        "y = np.array([[5,6],[7,8]])\n",
        "\n",
        "v = np.array([9,10])\n",
        "w = np.array([11, 12])\n",
        "\n",
        "# Inneres Produkt von Vektoren; beide Ergebnisse sind 219\n",
        "print(v.dot(w))\n",
        "print(np.dot(v, w))"
      ],
      "execution_count": 66,
      "outputs": [
        {
          "output_type": "stream",
          "text": [
            "219\n",
            "219\n"
          ],
          "name": "stdout"
        }
      ]
    },
    {
      "cell_type": "markdown",
      "metadata": {
        "id": "vmxPbrHASVeA"
      },
      "source": [
        "Man kann auch `@` als Operator benutzen - das is equivalent zum Numpy `dot`-Operator."
      ]
    },
    {
      "cell_type": "code",
      "metadata": {
        "colab": {
          "base_uri": "https://localhost:8080/"
        },
        "id": "vyrWA-mXSdtt",
        "outputId": "8797dbcd-c3d8-4536-8858-b21a2c90c764"
      },
      "source": [
        "print(v @ w)"
      ],
      "execution_count": 67,
      "outputs": [
        {
          "output_type": "stream",
          "text": [
            "219\n"
          ],
          "name": "stdout"
        }
      ]
    },
    {
      "cell_type": "code",
      "metadata": {
        "colab": {
          "base_uri": "https://localhost:8080/"
        },
        "id": "zvUODeTxL9iw",
        "outputId": "77ec5c2b-c511-43ec-a0aa-9742b7c639cd"
      },
      "source": [
        "# Matrix / Vektor-Product; Alle Ergebnisse sind das Rang-1 Array [29 67]\n",
        "print(x.dot(v))\n",
        "print(np.dot(x, v))\n",
        "print(x @ v)"
      ],
      "execution_count": 68,
      "outputs": [
        {
          "output_type": "stream",
          "text": [
            "[29 67]\n",
            "[29 67]\n",
            "[29 67]\n"
          ],
          "name": "stdout"
        }
      ]
    },
    {
      "cell_type": "code",
      "metadata": {
        "colab": {
          "base_uri": "https://localhost:8080/"
        },
        "id": "3V_3NzNEL9iy",
        "outputId": "773fb8e6-3b4e-459e-acd3-b7a972e76d24"
      },
      "source": [
        "# Matrix / Vektor-Product; Alle Ergebnisse sind das Rang-2 Array\n",
        "# [[19 22]\n",
        "#  [43 50]]\n",
        "print(x.dot(y))\n",
        "print(np.dot(x, y))\n",
        "print(x @ y)"
      ],
      "execution_count": 69,
      "outputs": [
        {
          "output_type": "stream",
          "text": [
            "[[19 22]\n",
            " [43 50]]\n",
            "[[19 22]\n",
            " [43 50]]\n",
            "[[19 22]\n",
            " [43 50]]\n"
          ],
          "name": "stdout"
        }
      ]
    },
    {
      "cell_type": "markdown",
      "metadata": {
        "id": "FbE-1If_L9i0"
      },
      "source": [
        "Numpy biete viele nützliche Funtionen um verschiedene Berechnungen auf Arrazs durchzuführen; eine der Nützlichsten ist `sum`:"
      ]
    },
    {
      "cell_type": "code",
      "metadata": {
        "colab": {
          "base_uri": "https://localhost:8080/"
        },
        "id": "DZUdZvPrL9i0",
        "outputId": "a6ea4e98-66e9-4316-e693-80876bd5a534"
      },
      "source": [
        "x = np.array([[1,2],[3,4]])\n",
        "\n",
        "print(x)\n",
        "\n",
        "print(np.sum(x))  # Berechne die Summe aller Elemente; schreibt \"10\"\n",
        "print(np.sum(x, axis=0))  # Berechne die Summe fuer jede Spalte; schreibt \"[4 6]\"\n",
        "print(np.sum(x, axis=1))  # Berechne die Summe fuer jede Reihe; schreibt \"[3 7]\""
      ],
      "execution_count": 70,
      "outputs": [
        {
          "output_type": "stream",
          "text": [
            "[[1 2]\n",
            " [3 4]]\n",
            "10\n",
            "[4 6]\n",
            "[3 7]\n"
          ],
          "name": "stdout"
        }
      ]
    },
    {
      "cell_type": "markdown",
      "metadata": {
        "id": "ahdVW4iUL9i3"
      },
      "source": [
        "Ihr könnt die volle Liste an mathematischen Funktionen in der [Dokumentation](http://docs.scipy.org/doc/numpy/reference/routines.math.html) finden.\n",
        "\n",
        "Abgesehen von mathematischen Funktionen, müssen wir oft die Form (shape) von den Arrays ändern oder die Daten anderweitig anpassen. Die einfachste Operation ist es eine Matrix zu transponieren, dafür benutyt man einfach die `T`-Eigenschaft eines Array-Objektes:"
      ]
    },
    {
      "cell_type": "code",
      "metadata": {
        "colab": {
          "base_uri": "https://localhost:8080/"
        },
        "id": "63Yl1f3oL9i3",
        "outputId": "81b7e82d-6314-4bce-a15b-c2a76b90cc24"
      },
      "source": [
        "print(x)\n",
        "print(\"transponiert\\n\", x.T)"
      ],
      "execution_count": 71,
      "outputs": [
        {
          "output_type": "stream",
          "text": [
            "[[1 2]\n",
            " [3 4]]\n",
            "transponiert\n",
            " [[1 3]\n",
            " [2 4]]\n"
          ],
          "name": "stdout"
        }
      ]
    },
    {
      "cell_type": "code",
      "metadata": {
        "colab": {
          "base_uri": "https://localhost:8080/"
        },
        "id": "mkk03eNIL9i4",
        "outputId": "8f6937d8-aa47-438c-a229-b15eb385fbf7"
      },
      "source": [
        "v = np.array([[1,2,3]])\n",
        "print(v )\n",
        "print(\"transponiert\\n\", v.T)"
      ],
      "execution_count": 72,
      "outputs": [
        {
          "output_type": "stream",
          "text": [
            "[[1 2 3]]\n",
            "transponiert\n",
            " [[1]\n",
            " [2]\n",
            " [3]]\n"
          ],
          "name": "stdout"
        }
      ]
    },
    {
      "cell_type": "markdown",
      "metadata": {
        "id": "REfLrUTcL9i7"
      },
      "source": [
        "###Broadcasting"
      ]
    },
    {
      "cell_type": "markdown",
      "metadata": {
        "id": "EygGAMWqL9i7"
      },
      "source": [
        "Broadcasting (Automatisches Erweitern von Arrays) ist ein nützlicher Mechanismus der es Numpy erlaubt Arrays mit verschiedenen shapes für arithmetische Operationen zu verwenden. Man hat oft einen kleinen und einen größeren Array und möchte den kleineren mehrfach verwenden um eine Operation auf dem größeren Array auszuführen.\n",
        "\n",
        "Nehmen wir an, dass wir einen konstanten Vektor zu jeder Reihe einer Matrix hinzufügen wollen. Wir können das so implementieren:"
      ]
    },
    {
      "cell_type": "code",
      "metadata": {
        "colab": {
          "base_uri": "https://localhost:8080/"
        },
        "id": "WEEvkV1ZL9i7",
        "outputId": "04aadcb8-09a8-4a40-b081-a1804a5a287c"
      },
      "source": [
        "# Wir werden den Vektor v zu jeder Reihe der Matrix x hinzufuegen und\n",
        "# das Ergebnis in der Matrix y speichern:\n",
        "x = np.array([[1,2,3], [4,5,6], [7,8,9], [10, 11, 12]])\n",
        "v = np.array([1, 0, 1])\n",
        "y = np.empty_like(x)   # Erstelle eine leere Matrix mit der gleichen shape wie x\n",
        "\n",
        "# Addiere den Vektor v zu jeder Reihe der Matrix x mit einer expliziten Schleife\n",
        "for i in range(4):\n",
        "    y[i, :] = x[i, :] + v\n",
        "\n",
        "print(y)"
      ],
      "execution_count": 73,
      "outputs": [
        {
          "output_type": "stream",
          "text": [
            "[[ 2  2  4]\n",
            " [ 5  5  7]\n",
            " [ 8  8 10]\n",
            " [11 11 13]]\n"
          ],
          "name": "stdout"
        }
      ]
    },
    {
      "cell_type": "markdown",
      "metadata": {
        "id": "2OlXXupEL9i-"
      },
      "source": [
        "Auch wenn dies funktioniert, ist dies oftmals sehr langsam wenn x groß ist, weil die explizite Schleife langsam ist. Wir können stattdessen eine Matrix `vv` erstellen indem wir `v` mehrfach aneinander setzen und diese Matrix `vv` per-element zu `x` addieren. Wir könnten dies so implementieren:"
      ]
    },
    {
      "cell_type": "code",
      "metadata": {
        "colab": {
          "base_uri": "https://localhost:8080/"
        },
        "id": "vS7UwAQQL9i-",
        "outputId": "063765dd-1d74-4121-afd9-c3b682423a82"
      },
      "source": [
        "vv = np.tile(v, (4, 1))  # Setze 4 Kopien von v aufeinander auf\n",
        "print(vv)                # schreibt \"[[1 0 1]\n",
        "                         #            [1 0 1]\n",
        "                         #            [1 0 1]\n",
        "                         #            [1 0 1]]\""
      ],
      "execution_count": 74,
      "outputs": [
        {
          "output_type": "stream",
          "text": [
            "[[1 0 1]\n",
            " [1 0 1]\n",
            " [1 0 1]\n",
            " [1 0 1]]\n"
          ],
          "name": "stdout"
        }
      ]
    },
    {
      "cell_type": "code",
      "metadata": {
        "colab": {
          "base_uri": "https://localhost:8080/"
        },
        "id": "N0hJphSIL9jA",
        "outputId": "20a95b03-3f0f-45db-c710-58c86267c0b3"
      },
      "source": [
        "y = x + vv  # Addiere x und vv per-element\n",
        "print(y)"
      ],
      "execution_count": 75,
      "outputs": [
        {
          "output_type": "stream",
          "text": [
            "[[ 2  2  4]\n",
            " [ 5  5  7]\n",
            " [ 8  8 10]\n",
            " [11 11 13]]\n"
          ],
          "name": "stdout"
        }
      ]
    },
    {
      "cell_type": "markdown",
      "metadata": {
        "id": "zHos6RJnL9jB"
      },
      "source": [
        "Mit Numpy-Broadcast können wir die selbe Operation ausführen ohne explizit mehrere Kopien von `v` zu erstellen. Schauen wir uns diese Implementierung an:"
      ]
    },
    {
      "cell_type": "code",
      "metadata": {
        "colab": {
          "base_uri": "https://localhost:8080/"
        },
        "id": "vnYFb-gYL9jC",
        "outputId": "bb320b47-c256-4ea9-e9aa-78bd2d3d82d6"
      },
      "source": [
        "# Wir werden den Vektor v zu jeder Reihe der Matrix x hinzufuegen und\n",
        "# das Ergebnis in der Matrix y speichern:\n",
        "x = np.array([[1,2,3], [4,5,6], [7,8,9], [10, 11, 12]])\n",
        "v = np.array([1, 0, 1])\n",
        "y = x + v  # Addiere v zu jeder Reihe von x mit Hilfe von broadcasting\n",
        "print(y)"
      ],
      "execution_count": 76,
      "outputs": [
        {
          "output_type": "stream",
          "text": [
            "[[ 2  2  4]\n",
            " [ 5  5  7]\n",
            " [ 8  8 10]\n",
            " [11 11 13]]\n"
          ],
          "name": "stdout"
        }
      ]
    },
    {
      "cell_type": "markdown",
      "metadata": {
        "id": "08YyIURKL9jH"
      },
      "source": [
        "Die Zeile `y = x + v` funktioniert obwohl `x` das shape `(4, 3)` hat und `v`  shape `(3,)` hat weil Broadcasting verwendet wird; Die Zeile arbeitet als würde v eigentlich shape `(4, 3)` haben, wo jede Reihe eine Kopie von `v` ist, und dann wird die Summe per-element gebildet.\n",
        "\n",
        "Broadcasting von zwei Arrays folgt diesen Regeln:\n",
        "\n",
        "1. Falls die Arrays nicht den gleichen Rang haben, wird dsa shape des Arrays mit kleinerem Rang mit (1,) von vorne aufgefüllt bis beide shapes die gleiche Länge / die Arrays den gleichen Rang haben.\n",
        "2. Die zwei Arrays sind in einer Dimension kompatibel, falls sie die gleiche Größe in dieser Dimension haben oder einer von beiden Größe 1 in dieser Dimension hat.\n",
        "3. Die Arrays können gebroadcasted werden, falls alle Dimensionen kompatibel sind.\n",
        "4. Nach dem Broadcasting verhält sich jedes Array so als hätte es ein shape das gleich dem per-Element Maximum der shapes beider Arrays ist.\n",
        "5. In jeder Dimension, in der ein Array Größe 1 hat und der andere Array eine Größe größer als 1 hat, verhält sich der kleinere Arraz so als wäre er in dieser Dimension kopiert worden.\n",
        "\n",
        "Falls dieser Erklärung keinen Sinn macht gibt es noch weitere in dieser [Dokumentation](http://docs.scipy.org/doc/numpy/user/basics.broadcasting.html) oder dieser [Erklärung](http://wiki.scipy.org/EricsBroadcastingDoc).\n",
        "\n",
        "Funktionen die Broadcasting benutzen können heißen universelle Funktionen und können in dieser [Dokumentation](http://docs.scipy.org/doc/numpy/reference/ufuncs.html#available-ufuncs) gefunden werden.\n",
        "\n",
        "Hier sind weitere Anwendungen von Broadcasting:"
      ]
    },
    {
      "cell_type": "code",
      "metadata": {
        "colab": {
          "base_uri": "https://localhost:8080/"
        },
        "id": "EmQnwoM9L9jH",
        "outputId": "aedb243e-5f40-4960-c5df-7564349ac893"
      },
      "source": [
        "# Berechne das aeussere Produkt von Vektoren:\n",
        "v = np.array([1,2,3])  # v has shape (3,)\n",
        "w = np.array([4,5])    # w has shape (2,)\n",
        "# Um das aeussere Produkt zu berechnen aendern wir as den shape von v\n",
        "# in einen Spaltenvektor (3, 1); dann können wir es mit w broadcasten\n",
        "# um shape (3, 2) zu erhalten. Das ist das aeussere Produkt von v und w:\n",
        "\n",
        "print(np.reshape(v, (3, 1)) * w)"
      ],
      "execution_count": 77,
      "outputs": [
        {
          "output_type": "stream",
          "text": [
            "[[ 4  5]\n",
            " [ 8 10]\n",
            " [12 15]]\n"
          ],
          "name": "stdout"
        }
      ]
    },
    {
      "cell_type": "code",
      "metadata": {
        "colab": {
          "base_uri": "https://localhost:8080/"
        },
        "id": "PgotmpcnL9jK",
        "outputId": "fb97ea4f-5088-48e3-a12c-06e3a6804697"
      },
      "source": [
        "# Addiere einen Vektor zu jeder Reihe von x\n",
        "x = np.array([[1,2,3], [4,5,6]])\n",
        "# x hat ein shape von (2, 3) und v hat ein shape von (3,) damit broadcasten sie zu (2, 3),\n",
        "# was die folgende Matrix ergibt:\n",
        "\n",
        "print(x + v)"
      ],
      "execution_count": 78,
      "outputs": [
        {
          "output_type": "stream",
          "text": [
            "[[2 4 6]\n",
            " [5 7 9]]\n"
          ],
          "name": "stdout"
        }
      ]
    },
    {
      "cell_type": "code",
      "metadata": {
        "colab": {
          "base_uri": "https://localhost:8080/"
        },
        "id": "T5hKS1QaL9jK",
        "outputId": "8bf5cfe3-7395-4b14-d562-053045cace4f"
      },
      "source": [
        "# Addiere einen Vektor zu jeder Spalte einer Matrix\n",
        "# x hat ein shape von\n",
        "# Add a vector to each column of a matrix\n",
        "# x has von (2, 3) und w hat ein shape von (2,)\n",
        "# Wenn wir x transponieren hat es ein shape von (3, 2) und kann mit\n",
        "# w gebroadcasted werden um ein Ergebnis mit shape (3, 2) zu erhalten;\n",
        "# transponiert man das Ergebnis erhaelt man ein shape (2, 3), dass die Matrix x\n",
        "# ist in der zu jeder Spalte der Vektor w addiert wurde:\n",
        "\n",
        "print((x.T + w).T)"
      ],
      "execution_count": 79,
      "outputs": [
        {
          "output_type": "stream",
          "text": [
            "[[ 5  6  7]\n",
            " [ 9 10 11]]\n"
          ],
          "name": "stdout"
        }
      ]
    },
    {
      "cell_type": "code",
      "metadata": {
        "colab": {
          "base_uri": "https://localhost:8080/"
        },
        "id": "JDUrZUl6L9jN",
        "outputId": "9fc9f709-4589-4ec0-bee5-d2f39614387e"
      },
      "source": [
        "# Eine andere Moeglichkeit ist es w in einen Zeilenvektor mit shape (2, 1) umzuwandeln;\n",
        "# dann kann man es direkt mit x broadcasten:\n",
        "print(x + np.reshape(w, (2, 1)))"
      ],
      "execution_count": 80,
      "outputs": [
        {
          "output_type": "stream",
          "text": [
            "[[ 5  6  7]\n",
            " [ 9 10 11]]\n"
          ],
          "name": "stdout"
        }
      ]
    },
    {
      "cell_type": "code",
      "metadata": {
        "colab": {
          "base_uri": "https://localhost:8080/"
        },
        "id": "VzrEo4KGL9jP",
        "outputId": "5f4a2b76-7965-4ca0-9ed6-f5135856d0b5"
      },
      "source": [
        "# Multiplikation einer Matrix mit einer Konstante:\n",
        "# x hat shappe (2, 3) und Numpy behandelt Skalare as Arrays mit shape ();\n",
        "# Damit koennen sie mit Arrays gebroadcasted werden:\n",
        "print(x * 2)"
      ],
      "execution_count": 81,
      "outputs": [
        {
          "output_type": "stream",
          "text": [
            "[[ 2  4  6]\n",
            " [ 8 10 12]]\n"
          ],
          "name": "stdout"
        }
      ]
    },
    {
      "cell_type": "markdown",
      "metadata": {
        "id": "89e2FXxFL9jQ"
      },
      "source": [
        "Normalerweise macht Broadcasting Code lesbarer und schneller, weswegen man versuchen sollte Broadcasting zu nutzen wenn es möglich ist."
      ]
    },
    {
      "cell_type": "markdown",
      "metadata": {
        "id": "iF3ZtwVNL9jQ"
      },
      "source": [
        "Dieser kurze Überblick hat einige wichtige Aspekte von Numpz behandelt, aber ist bei Weitem nicht vollständig. Weitere Information zu Numpy gibt es in der [Referenz](http://docs.scipy.org/doc/numpy/reference/)."
      ]
    },
    {
      "cell_type": "markdown",
      "metadata": {
        "id": "tEINf4bEL9jR"
      },
      "source": [
        "##Matplotlib"
      ]
    },
    {
      "cell_type": "markdown",
      "metadata": {
        "id": "0hgVWLaXL9jR"
      },
      "source": [
        "Matplotlib ist eine Bibliothek um Graphen und Grafiken zu erstellen. In diesem Abschnitt wird `matplotlib.pyplot` kurz eingeführt."
      ]
    },
    {
      "cell_type": "code",
      "metadata": {
        "id": "cmh_7c6KL9jR"
      },
      "source": [
        "import matplotlib.pyplot as plt"
      ],
      "execution_count": 82,
      "outputs": []
    },
    {
      "cell_type": "markdown",
      "metadata": {
        "id": "jOsaA5hGL9jS"
      },
      "source": [
        "Mit diesem speziellen iPython-Kommando werden Graphen direkt nach den Zellen gezeigt:"
      ]
    },
    {
      "cell_type": "code",
      "metadata": {
        "id": "ijpsmwGnL9jT"
      },
      "source": [
        "%matplotlib inline"
      ],
      "execution_count": 83,
      "outputs": []
    },
    {
      "cell_type": "markdown",
      "metadata": {
        "id": "U5Z_oMoLL9jV"
      },
      "source": [
        "###Plotting - Erstellen von Graphen"
      ]
    },
    {
      "cell_type": "markdown",
      "metadata": {
        "id": "6QyFJ7dhL9jV"
      },
      "source": [
        "Die wichtigste Funktion in `matplotlib` ist `plot`. Diese Funktion stellt 2D daten dar:"
      ]
    },
    {
      "cell_type": "code",
      "metadata": {
        "colab": {
          "base_uri": "https://localhost:8080/",
          "height": 265
        },
        "id": "pua52BGeL9jW",
        "outputId": "ed10ccd4-2743-4d5c-af4e-4c7172243fd4"
      },
      "source": [
        "# Berechne die x und y Koordinaten fur Punkte auf einer Sinuskurve\n",
        "x = np.arange(0, 3 * np.pi, 0.1)\n",
        "y = np.sin(x)\n",
        "\n",
        "# Stelle die Punkte mit matplotlib dar\n",
        "plt.plot(x, y)\n",
        "\n",
        "plt.show()"
      ],
      "execution_count": 84,
      "outputs": [
        {
          "output_type": "display_data",
          "data": {
            "image/png": "[encoded data removed]",
            "text/plain": [
              "<Figure size 432x288 with 1 Axes>"
            ]
          },
          "metadata": {
            "tags": [],
            "needs_background": "light"
          }
        }
      ]
    },
    {
      "cell_type": "markdown",
      "metadata": {
        "id": "9W2VAcLiL9jX"
      },
      "source": [
        "Mit nur wenig Mehraufwand können wir mehrere Kurven darstellen und Graphbeschreibungen hinzufügen:"
      ]
    },
    {
      "cell_type": "code",
      "metadata": {
        "colab": {
          "base_uri": "https://localhost:8080/",
          "height": 295
        },
        "id": "TfCQHJ5AL9jY",
        "outputId": "cc79f142-86ba-4796-9d50-6635f0a84841"
      },
      "source": [
        "y_sin = np.sin(x)\n",
        "y_cos = np.cos(x)\n",
        "\n",
        "# Stelle die Punkte mit matplotlib dar\n",
        "plt.plot(x, y_sin)\n",
        "plt.plot(x, y_cos)\n",
        "plt.xlabel('x-Axenbeschreibung')\n",
        "plt.ylabel('y-Axenbeschreibung')\n",
        "plt.title('Sinus and Cosinus') # Titel der Grafik\n",
        "plt.legend(['Sinus', 'Cosinus']) # Legende der Kurven\n",
        "\n",
        "plt.show()"
      ],
      "execution_count": 85,
      "outputs": [
        {
          "output_type": "display_data",
          "data": {
            "image/png": "[encoded data removed]",
            "text/plain": [
              "<Figure size 432x288 with 1 Axes>"
            ]
          },
          "metadata": {
            "tags": [],
            "needs_background": "light"
          }
        }
      ]
    },
    {
      "cell_type": "markdown",
      "metadata": {
        "id": "R5IeAY03L9ja"
      },
      "source": [
        "###Subplots "
      ]
    },
    {
      "cell_type": "markdown",
      "metadata": {
        "id": "CfUzwJg0L9ja"
      },
      "source": [
        "Mit der `subplot`-Funktion kann man mehrere verschiedene Sachen in die gleichen Grafik darstellen:"
      ]
    },
    {
      "cell_type": "code",
      "metadata": {
        "colab": {
          "base_uri": "https://localhost:8080/",
          "height": 297
        },
        "id": "dM23yGH9L9ja",
        "outputId": "2bfbba49-f93a-4cd7-e4b0-ca1dfe1aad5c"
      },
      "source": [
        "# Berechne die x und y Koordinaten fur Punkte auf einer Sinus- und Cosinuskurve\n",
        "x = np.arange(0, 3 * np.pi, 0.1)\n",
        "y_sin = np.sin(x)\n",
        "y_cos = np.cos(x)\n",
        "\n",
        "# Erstelle ein Raster mit subplots mit Hoehe 2 und Breite 1 und aktiviere den\n",
        "# ersten subplot.\n",
        "plt.subplot(2, 1, 1)\n",
        "\n",
        "# Zeichne den ersten Plot\n",
        "plt.plot(x, y_sin)\n",
        "plt.title('Sinus')\n",
        "\n",
        "# Aktiviere den zweiten Plot und zeichne den zweiten Plot.\n",
        "plt.subplot(2, 1, 2)\n",
        "plt.plot(x, y_cos)\n",
        "plt.title('Cosinus')\n",
        "\n",
        "# Passe das Layout an damit die Title nicht mit den Axenbeschriftungen ueberlappen\n",
        "plt.tight_layout()\n",
        "# Zeige die Grafik\n",
        "plt.show()"
      ],
      "execution_count": 86,
      "outputs": [
        {
          "output_type": "display_data",
          "data": {
            "image/png": "[encoded data removed]",
            "text/plain": [
              "<Figure size 432x288 with 2 Axes>"
            ]
          },
          "metadata": {
            "tags": [],
            "needs_background": "light"
          }
        }
      ]
    },
    {
      "cell_type": "markdown",
      "metadata": {
        "id": "gLtsST5SL9jc"
      },
      "source": [
        "Auch zur `subplot`-Funktion gibt es mehr Infos in der [Dokumentation](http://matplotlib.org/api/pyplot_api.html#matplotlib.pyplot.subplot)."
      ]
    }
  ]
}
